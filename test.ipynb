{
 "cells": [
  {
   "cell_type": "code",
   "execution_count": 1,
   "metadata": {},
   "outputs": [
    {
     "name": "stderr",
     "output_type": "stream",
     "text": [
      "USER_AGENT environment variable not set, consider setting it to identify your requests.\n",
      "INFO:chromadb.telemetry.product.posthog:Anonymized telemetry enabled. See                     https://docs.trychroma.com/telemetry for more information.\n",
      "INFO:vectordb:Vector store initialized successfully.\n"
     ]
    }
   ],
   "source": [
    "from vectordb import retriever"
   ]
  },
  {
   "cell_type": "code",
   "execution_count": 5,
   "metadata": {},
   "outputs": [
    {
     "name": "stderr",
     "output_type": "stream",
     "text": [
      "INFO:httpx:HTTP Request: POST https://api.openai.com/v1/embeddings \"HTTP/1.1 200 OK\"\n"
     ]
    },
    {
     "data": {
      "text/plain": [
       "[Document(metadata={'created_at': '2024-10-03T22:14:38.818889', 'source': 'chatbot', 'user_id': 442279625, 'username': 'emingench'}, page_content='Q: Satranç\\nA: Satranç harika bir oyun! Strateji ve düşünme becerilerini geliştirmek için mükemmel bir yol. Satranç oynamayı mı seviyorsun? Yoksa izlemeyi mi tercih ediyorsun? Hangi açılışları veya taktikleri kullanmayı seviyorsun?')]"
      ]
     },
     "execution_count": 5,
     "metadata": {},
     "output_type": "execute_result"
    }
   ],
   "source": [
    "retriever.invoke('satranc?')"
   ]
<<<<<<< HEAD
  },
  {
   "cell_type": "code",
   "execution_count": 1,
   "metadata": {},
   "outputs": [
    {
     "name": "stderr",
     "output_type": "stream",
     "text": [
      "USER_AGENT environment variable not set, consider setting it to identify your requests.\n",
      "INFO:chromadb.telemetry.product.posthog:Anonymized telemetry enabled. See                     https://docs.trychroma.com/telemetry for more information.\n",
      "INFO:vectordb:Vector store initialized successfully.\n"
     ]
    }
   ],
   "source": [
    "from router_llm import app, assess_query, GraphState\n",
    "from gpt_message_handler import filter_chat\n",
    "from vectordb import retriever\n"
   ]
  },
  {
   "cell_type": "code",
   "execution_count": 2,
   "metadata": {},
   "outputs": [],
   "source": [
    "username = 'username'\n",
    "user_id = 212121"
   ]
  },
  {
   "cell_type": "code",
   "execution_count": 3,
   "metadata": {},
   "outputs": [
    {
     "name": "stderr",
     "output_type": "stream",
     "text": [
      "INFO:httpx:HTTP Request: POST http://127.0.0.1:11434/api/embed \"HTTP/1.1 200 OK\"\n",
      "WARNING:chromadb.segment.impl.vector.local_persistent_hnsw:Number of requested results 5 is greater than number of elements in index 1, updating n_results = 1\n"
     ]
    },
    {
     "name": "stdout",
     "output_type": "stream",
     "text": [
      "do crag. How is the weather in istanbul  tomorrow?\n"
     ]
    }
   ],
   "source": [
    "question = 'do crag. How is the weather in istanbul  tomorrow?'\n",
    "docs = retriever.invoke(question)\n",
    "chat_history = filter_chat(username=username, user_id=user_id, docs=docs)\n",
    "ragquestion = f\"chat_history:  {chat_history} Question: {question} Ai:\" if chat_history else question\n",
    "print(ragquestion)"
   ]
  },
  {
   "cell_type": "code",
   "execution_count": 4,
   "metadata": {},
   "outputs": [
    {
     "name": "stderr",
     "output_type": "stream",
     "text": [
      "INFO:httpx:HTTP Request: POST http://127.0.0.1:11434/api/chat \"HTTP/1.1 200 OK\"\n",
      "INFO:router_llm:Determined next step: crag with confidence: 1.0\n",
      "INFO:agents.crag:Retrieving documents...\n"
     ]
    },
    {
     "name": "stdout",
     "output_type": "stream",
     "text": [
      "Next step: crag\n"
     ]
    },
    {
     "name": "stderr",
     "output_type": "stream",
     "text": [
      "INFO:httpx:HTTP Request: POST http://127.0.0.1:11434/api/embed \"HTTP/1.1 200 OK\"\n",
      "WARNING:chromadb.segment.impl.vector.local_persistent_hnsw:Number of requested results 5 is greater than number of elements in index 1, updating n_results = 1\n",
      "INFO:agents.crag:Grading documents for relevance...\n",
      "INFO:httpx:HTTP Request: POST http://127.0.0.1:11434/api/chat \"HTTP/1.1 200 OK\"\n",
      "INFO:agents.crag:Deciding next step...\n",
      "INFO:agents.crag:Transforming query...\n",
      "INFO:httpx:HTTP Request: POST http://127.0.0.1:11434/api/chat \"HTTP/1.1 200 OK\"\n",
      "INFO:agents.crag:Performing web search...\n",
      "INFO:vectordb:Adding documents to vectorstore...\n"
     ]
    },
    {
     "name": "stdout",
     "output_type": "stream",
     "text": [
      "[{'url': 'https://www.weathertab.com/en/long-range-weather/e/11/04/republic-of-turkey/istanbul/istanbul/', 'content': 'Explore our detailed long-range weather forecast for İstanbul on November 04, 2024, including precipitation risk, high/low temperatures, and sun & moon data. Plan ahead with accurate weather insights.'}, {'url': 'https://www.ventusky.com/istanbul', 'content': \"İstanbul ☀ Weather forecast for 10 days, information from meteorological stations, webcams, sunrise and sunset, wind and precipitation maps for this place ... Turkey / Lat.: 41°1'N / Lon.: 28°56'E / Altitude: 43 m Timezone: Europe/Istanbul (UTC+3) / Current time: 02:38 2024/10/03 . Current Weather ; Forecast ; Sun and Moon ; 16 °C : Wind ...\"}, {'url': 'https://www.timeanddate.com/weather/turkey/istanbul/ext', 'content': 'Istanbul 14 Day Extended Forecast. Weather Today Weather Hourly 14 Day Forecast Yesterday/Past Weather Climate (Averages) Currently: 73 °F. Passing clouds. (Weather station: Istanbul Ataturk Airport, Turkey). See more current weather.'}, {'url': 'https://world-weather.info/forecast/turkey/istanbul/april-2024/', 'content': 'Hourly Week 10 days 14 days 30 days Year. Detailed ⚡ Istanbul Weather Forecast for April 2024 - day/night 🌡️ temperatures, precipitations - World-Weather.info.'}, {'url': 'https://www.accuweather.com/en/tr/istanbul/318251/weather-forecast/318251', 'content': 'Istanbul, Istanbul, Türkiye Weather Forecast, with current conditions, wind, air quality, and what to expect for the next 3 days.'}]\n"
     ]
    },
    {
     "name": "stderr",
     "output_type": "stream",
     "text": [
      "INFO:httpx:HTTP Request: POST http://127.0.0.1:11434/api/embed \"HTTP/1.1 200 OK\"\n",
      "INFO:vectordb:Successfully added to vectorstore\n",
      "INFO:agents.crag:Generating final answer with RAG...\n",
      "INFO:httpx:HTTP Request: POST http://127.0.0.1:11434/api/chat \"HTTP/1.1 200 OK\"\n"
     ]
    },
    {
     "data": {
      "text/plain": [
       "{'question': 'You meant to ask \"Do you know...\". Here\\'s a revised version of your question that might improve search results:\\n\\n\"What is the forecast for Istanbul, Turkey tomorrow?\"',\n",
       " 'answer': \"Here's an answer based on the provided context:\\n\\nAccording to the current weather data, as of October 3rd, 2024, the forecast for Istanbul, Turkey for November 04, 2024 is not explicitly stated. However, I can provide some general information about the typical weather conditions in Istanbul during this time.\\n\\nIn late November, Istanbul experiences a mild autumn climate with temperatures gradually cooling down. The average high temperature is around 12°C (54°F), while the average low temperature is around 6°C (43°F).\\n\\nAs for precipitation, November is generally a relatively dry month in Istanbul, with an average of 10 rainy days throughout the month.\\n\\nHere's a rough estimate of what you might expect:\\n\\n* High Temperature: Around 12°C (54°F)\\n* Low Temperature: Around 6°C (43°F)\\n* Precipitation Risk: Moderate (around 40-50% chance of rain)\\n\\nPlease note that this is just an estimate and actual weather conditions may vary. For the most accurate and up-to-date forecast, I recommend checking a reliable weather forecasting service or app.\\n\\nIf you'd like to know more about the current weather in Istanbul or get a detailed forecast for tomorrow, I can try to provide more information based on available data.\",\n",
       " 'next_step': 'crag'}"
      ]
     },
     "execution_count": 4,
     "metadata": {},
     "output_type": "execute_result"
    }
   ],
   "source": [
    "app.invoke({\"question\": ragquestion})"
   ]
=======
>>>>>>> 3df12e8 (add chat history)
  }
 ],
 "metadata": {
  "kernelspec": {
   "display_name": "venv",
   "language": "python",
   "name": "python3"
  },
  "language_info": {
   "codemirror_mode": {
    "name": "ipython",
    "version": 3
   },
   "file_extension": ".py",
   "mimetype": "text/x-python",
   "name": "python",
   "nbconvert_exporter": "python",
   "pygments_lexer": "ipython3",
   "version": "3.12.0"
  }
 },
 "nbformat": 4,
 "nbformat_minor": 2
}
